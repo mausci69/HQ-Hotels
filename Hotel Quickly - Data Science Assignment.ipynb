{
 "cells": [
  {
   "cell_type": "code",
   "execution_count": 1,
   "metadata": {},
   "outputs": [],
   "source": [
    "# Importing the libraries\n",
    "import numpy as np\n",
    "import pandas as pd"
   ]
  },
  {
   "cell_type": "code",
   "execution_count": 2,
   "metadata": {},
   "outputs": [],
   "source": [
    "# Reading the dataset\n",
    "dataset = pd.read_csv('Downloads/archive/suppliers_data.csv')\n",
    "dataset_copy = dataset.copy()"
   ]
  },
  {
   "cell_type": "code",
   "execution_count": 3,
   "metadata": {},
   "outputs": [
    {
     "data": {
      "text/html": [
       "<div>\n",
       "<style scoped>\n",
       "    .dataframe tbody tr th:only-of-type {\n",
       "        vertical-align: middle;\n",
       "    }\n",
       "\n",
       "    .dataframe tbody tr th {\n",
       "        vertical-align: top;\n",
       "    }\n",
       "\n",
       "    .dataframe thead th {\n",
       "        text-align: right;\n",
       "    }\n",
       "</style>\n",
       "<table border=\"1\" class=\"dataframe\">\n",
       "  <thead>\n",
       "    <tr style=\"text-align: right;\">\n",
       "      <th></th>\n",
       "      <th>inv_id</th>\n",
       "      <th>supplier</th>\n",
       "      <th>name</th>\n",
       "      <th>address</th>\n",
       "      <th>city</th>\n",
       "      <th>zip</th>\n",
       "      <th>state</th>\n",
       "      <th>country</th>\n",
       "      <th>latitude</th>\n",
       "      <th>longitude</th>\n",
       "    </tr>\n",
       "  </thead>\n",
       "  <tbody>\n",
       "    <tr>\n",
       "      <th>0</th>\n",
       "      <td>465224</td>\n",
       "      <td>supplier1</td>\n",
       "      <td>#2 Hastings Street</td>\n",
       "      <td>2 Hastings Street</td>\n",
       "      <td>Noosa</td>\n",
       "      <td>4567</td>\n",
       "      <td>QL</td>\n",
       "      <td>Australia</td>\n",
       "      <td>-26.38620</td>\n",
       "      <td>153.08700</td>\n",
       "    </tr>\n",
       "    <tr>\n",
       "      <th>1</th>\n",
       "      <td>510663</td>\n",
       "      <td>supplier1</td>\n",
       "      <td>'A Alera Room and Breakfast</td>\n",
       "      <td>Via Roma 10-12</td>\n",
       "      <td>Malfa</td>\n",
       "      <td>98050</td>\n",
       "      <td>NaN</td>\n",
       "      <td>Italy</td>\n",
       "      <td>38.58050</td>\n",
       "      <td>14.83880</td>\n",
       "    </tr>\n",
       "    <tr>\n",
       "      <th>2</th>\n",
       "      <td>551357</td>\n",
       "      <td>supplier1</td>\n",
       "      <td>'Lindian Myth' Sea View Studios</td>\n",
       "      <td>Krana</td>\n",
       "      <td>Rhodes</td>\n",
       "      <td>85107</td>\n",
       "      <td>NaN</td>\n",
       "      <td>Greece</td>\n",
       "      <td>36.08800</td>\n",
       "      <td>28.08000</td>\n",
       "    </tr>\n",
       "    <tr>\n",
       "      <th>3</th>\n",
       "      <td>394967</td>\n",
       "      <td>supplier1</td>\n",
       "      <td>'S Hertogenmolens</td>\n",
       "      <td>Demerstraat 1</td>\n",
       "      <td>Aarschot</td>\n",
       "      <td>3200</td>\n",
       "      <td>NaN</td>\n",
       "      <td>Belgium</td>\n",
       "      <td>50.98640</td>\n",
       "      <td>4.82882</td>\n",
       "    </tr>\n",
       "    <tr>\n",
       "      <th>4</th>\n",
       "      <td>535087</td>\n",
       "      <td>supplier1</td>\n",
       "      <td>*Hotel Punta Diamante Business and Premium Res...</td>\n",
       "      <td>Lote 1 Mediterrane</td>\n",
       "      <td>Bucaramanga</td>\n",
       "      <td>NaN</td>\n",
       "      <td>NaN</td>\n",
       "      <td>Colombia</td>\n",
       "      <td>7.02252</td>\n",
       "      <td>-73.08300</td>\n",
       "    </tr>\n",
       "  </tbody>\n",
       "</table>\n",
       "</div>"
      ],
      "text/plain": [
       "   inv_id   supplier                                               name  \\\n",
       "0  465224  supplier1                                 #2 Hastings Street   \n",
       "1  510663  supplier1                        'A Alera Room and Breakfast   \n",
       "2  551357  supplier1                    'Lindian Myth' Sea View Studios   \n",
       "3  394967  supplier1                                  'S Hertogenmolens   \n",
       "4  535087  supplier1  *Hotel Punta Diamante Business and Premium Res...   \n",
       "\n",
       "              address         city    zip state    country  latitude  \\\n",
       "0   2 Hastings Street        Noosa   4567    QL  Australia -26.38620   \n",
       "1      Via Roma 10-12        Malfa  98050   NaN      Italy  38.58050   \n",
       "2               Krana       Rhodes  85107   NaN     Greece  36.08800   \n",
       "3       Demerstraat 1     Aarschot   3200   NaN    Belgium  50.98640   \n",
       "4  Lote 1 Mediterrane  Bucaramanga    NaN   NaN   Colombia   7.02252   \n",
       "\n",
       "   longitude  \n",
       "0  153.08700  \n",
       "1   14.83880  \n",
       "2   28.08000  \n",
       "3    4.82882  \n",
       "4  -73.08300  "
      ]
     },
     "execution_count": 3,
     "metadata": {},
     "output_type": "execute_result"
    }
   ],
   "source": [
    "dataset.head()"
   ]
  },
  {
   "cell_type": "code",
   "execution_count": 4,
   "metadata": {},
   "outputs": [],
   "source": [
    "# First: we convert the names of the hotels in lowercase\n",
    "dataset_copy[\"name\"] = [x.lower() for x in dataset_copy[\"name\"]]"
   ]
  },
  {
   "cell_type": "code",
   "execution_count": 5,
   "metadata": {},
   "outputs": [],
   "source": [
    "# Second: we split the names of the hotels on spaces\n",
    "dataset_copy[\"name\"] = [x.split() for x in dataset_copy[\"name\"]]"
   ]
  },
  {
   "cell_type": "code",
   "execution_count": 6,
   "metadata": {},
   "outputs": [],
   "source": [
    "# Third: we erase the short list of words we consider not significant\n",
    "# We put these words in a file named 'stopwords.txt'\n",
    "# Going on with the work, we can change this file, based on what we observe\n",
    "stopwords = set(w.rstrip() for w in open(\"Downloads/archive/hotel_stopwords.txt\"))\n",
    "for w in stopwords:\n",
    "    for i in range(len(dataset_copy)):\n",
    "        if w in dataset_copy.iloc[i,2]: dataset_copy.iloc[i,2].remove(w)"
   ]
  },
  {
   "cell_type": "code",
   "execution_count": 7,
   "metadata": {},
   "outputs": [],
   "source": [
    "# Forth: now let's concatenate the words in the Hotel names\n",
    "# It is gonna make what we do next way easier\n",
    "dataset_copy[\"name\"] = [\" \".join(x) for x in dataset_copy[\"name\"]]"
   ]
  },
  {
   "cell_type": "code",
   "execution_count": 8,
   "metadata": {},
   "outputs": [],
   "source": [
    "# Fifth: let's make the mapping dataframe\n",
    "length_dataset = len(dataset_copy)\n",
    "mapping = pd.DataFrame(columns=['hq_id','inv_id','inv_name'])\n",
    "\n",
    "# We simply sort the dataframe by name\n",
    "# So, same hotels are gonna be consecutive\n",
    "dataset_copy = dataset_copy.sort_values(by=['name'])\n",
    "b = 0\n",
    "e = 0\n",
    "while (e < length_dataset-1):\n",
    "    if (dataset_copy.iloc[e,2] == dataset_copy.iloc[e+1,2]):\n",
    "        e += 1\n",
    "    else:\n",
    "        if (b != e):\n",
    "            for i in range(b,e+1):\n",
    "                if (dataset_copy.iloc[i,1] == \"supplier1\"):\n",
    "                    hq_id = int(dataset_copy.iloc[i,0])\n",
    "                    mapping.loc[len(mapping)]=[hq_id,hq_id,\"supplier1\"] \n",
    "            for i in range(b,e+1):\n",
    "                if (dataset_copy.iloc[i,1] != \"supplier1\"):\n",
    "                    mapping.loc[len(mapping)] = [hq_id, int(dataset_copy.iloc[i,0]), dataset_copy.iloc[i,1]]\n",
    "        b = e + 1   \n",
    "        e = e + 1        "
   ]
  },
  {
   "cell_type": "code",
   "execution_count": 9,
   "metadata": {},
   "outputs": [
    {
     "data": {
      "text/html": [
       "<div>\n",
       "<style scoped>\n",
       "    .dataframe tbody tr th:only-of-type {\n",
       "        vertical-align: middle;\n",
       "    }\n",
       "\n",
       "    .dataframe tbody tr th {\n",
       "        vertical-align: top;\n",
       "    }\n",
       "\n",
       "    .dataframe thead th {\n",
       "        text-align: right;\n",
       "    }\n",
       "</style>\n",
       "<table border=\"1\" class=\"dataframe\">\n",
       "  <thead>\n",
       "    <tr style=\"text-align: right;\">\n",
       "      <th></th>\n",
       "      <th>hq_id</th>\n",
       "      <th>inv_id</th>\n",
       "      <th>inv_name</th>\n",
       "    </tr>\n",
       "  </thead>\n",
       "  <tbody>\n",
       "    <tr>\n",
       "      <th>0</th>\n",
       "      <td>497740</td>\n",
       "      <td>497740</td>\n",
       "      <td>supplier1</td>\n",
       "    </tr>\n",
       "    <tr>\n",
       "      <th>1</th>\n",
       "      <td>497740</td>\n",
       "      <td>253112</td>\n",
       "      <td>supplier2</td>\n",
       "    </tr>\n",
       "    <tr>\n",
       "      <th>2</th>\n",
       "      <td>455983</td>\n",
       "      <td>455983</td>\n",
       "      <td>supplier1</td>\n",
       "    </tr>\n",
       "    <tr>\n",
       "      <th>3</th>\n",
       "      <td>455983</td>\n",
       "      <td>235451</td>\n",
       "      <td>supplier2</td>\n",
       "    </tr>\n",
       "    <tr>\n",
       "      <th>4</th>\n",
       "      <td>606740</td>\n",
       "      <td>606740</td>\n",
       "      <td>supplier1</td>\n",
       "    </tr>\n",
       "  </tbody>\n",
       "</table>\n",
       "</div>"
      ],
      "text/plain": [
       "    hq_id  inv_id   inv_name\n",
       "0  497740  497740  supplier1\n",
       "1  497740  253112  supplier2\n",
       "2  455983  455983  supplier1\n",
       "3  455983  235451  supplier2\n",
       "4  606740  606740  supplier1"
      ]
     },
     "execution_count": 9,
     "metadata": {},
     "output_type": "execute_result"
    }
   ],
   "source": [
    "mapping.head()"
   ]
  },
  {
   "cell_type": "code",
   "execution_count": 12,
   "metadata": {},
   "outputs": [],
   "source": [
    "# Finally, let's save the mapping dataset as \"mapping.csv\"\n",
    "mapping.to_csv('Downloads/archive/mapping.csv', sep=',')"
   ]
  },
  {
   "cell_type": "code",
   "execution_count": 14,
   "metadata": {},
   "outputs": [
    {
     "data": {
      "text/plain": [
       "1023    A & J Budget Hotel\n",
       "Name: name, dtype: object"
      ]
     },
     "execution_count": 14,
     "metadata": {},
     "output_type": "execute_result"
    }
   ],
   "source": [
    "dataset[dataset[\"inv_id\"] == 497740][\"name\"]"
   ]
  },
  {
   "cell_type": "code",
   "execution_count": 15,
   "metadata": {},
   "outputs": [
    {
     "data": {
      "text/plain": [
       "66354    A & J Budget Hotel\n",
       "Name: name, dtype: object"
      ]
     },
     "execution_count": 15,
     "metadata": {},
     "output_type": "execute_result"
    }
   ],
   "source": [
    "dataset[dataset[\"inv_id\"] == 253112][\"name\"]"
   ]
  },
  {
   "cell_type": "code",
   "execution_count": 16,
   "metadata": {},
   "outputs": [],
   "source": [
    "# Easy Peasy!"
   ]
  }
 ],
 "metadata": {
  "kernelspec": {
   "display_name": "Python 3",
   "language": "python",
   "name": "python3"
  },
  "language_info": {
   "codemirror_mode": {
    "name": "ipython",
    "version": 3
   },
   "file_extension": ".py",
   "mimetype": "text/x-python",
   "name": "python",
   "nbconvert_exporter": "python",
   "pygments_lexer": "ipython3",
   "version": "3.6.0"
  }
 },
 "nbformat": 4,
 "nbformat_minor": 2
}
